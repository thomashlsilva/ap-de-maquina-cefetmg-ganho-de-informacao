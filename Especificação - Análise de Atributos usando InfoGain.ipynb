{
 "cells": [
  {
   "cell_type": "markdown",
   "metadata": {},
   "source": [
    "## Antes de Começar\n",
    "\n",
    "- Opcional: Leia e faça os exercícios sobre Python [aqui](Básico%20-%20Python.ipynb);\n",
    "- Instale o pandas. Usando pip, pode-se fazer este comando: `pip3 install pandas matplotlib numpy` (em alguns Sistemas Operacionais/configurações, você usará `pip` ao inves de `pip3`) \n",
    "\n",
    "\n"
   ]
  },
  {
   "cell_type": "markdown",
   "metadata": {},
   "source": [
    "Caso não esteja reconhecendo os pacotes instalados, geralmente é devido à sua maquina possuir mais de uma instalação do Python. Veja possiveis erros relacionados a isto:\n",
    "\n",
    "\n",
    "- Caso você tenha o python>=3 e python 2.7 instalado, por exemplo, todos os comandos para executar o Python 2.7, você usará sem o sufixo 3 e, caso queira usar o python>=3, você deve sempre utilizar python3, pip3\n",
    "- Não instale os pacotes como root. Pois, caso você instale dessa forma, só poderá executá-los como root. Caso aconteça isso, procure o endereço de instalação da versão do seu Python e, logo após, verifique se seu usuário possui a permissão para pasta dos módulos instalados\n",
    "- Ao rodar o Jupyter Notebook, você deve indicar qual versão do Python, dentre as instaladas, você irá usar. Veja isso no VisualCode: \n",
    "\n",
    "<img src='imgs/visualCode.jpeg'>"
   ]
  },
  {
   "cell_type": "markdown",
   "metadata": {},
   "source": [
    "### O que você precisa saber?"
   ]
  },
  {
   "cell_type": "markdown",
   "metadata": {},
   "source": [
    "**Pandas:** Entenda o funcionamento da biblioteca Pandas [aqui](Básico%20-%20Pandas.ipynb). Nesta prática você vai precisar entender como filtrar os dados e o uso do [value_counts](https://pandas.pydata.org/pandas-docs/stable/reference/api/pandas.Series.value_counts.html) além de como criar um Dataframe.\n",
    "\n",
    "\n",
    "**Aulas introdutórias:** Veja [a video aula 1](https://www.youtube.com/watch?v=fasqKSx2-TE&list=PLwIaU1DGYV6tUx10fCTw5aPnqypbbK_GJ&index=2&t=2s) completa e, além disso [a explicação sobre ganho de informação neste video](https://www.youtube.com/watch?v=8nV6lICu-l8&list=PLwIaU1DGYV6tUx10fCTw5aPnqypbbK_GJ&index=8). [Slides mais detalhado do calculo pode ser visto aqui](https://docs.google.com/presentation/d/1TgLJbcRj_Q5I-zqYYgMqyomKRxalW0Q0saJIS3XXeX8/edit?usp=sharing).\n",
    "\n",
    "\n",
    "### Termos importantes:\n",
    "\n",
    "**Entrada**: Representada por um vetor em que cada posição possui um indicador que auxilia na predição da tarefa em questão. Por exemplo, para prevermos se um email é spam ou não, um indicador poderia ser a quantidade de erros ortográficos.  Cada item da entrada é geralmente chamado de **atributo** - também pode ser chamado de **indicador**, **característica** ou, do inglês, **_features_**\n",
    "\n",
    "**Classe alvo (em inglês, _target class_**): é o valor que queremos prever representado por dois ou mais *rótulos* (sim ou não são dois rótulos, por exemplo).  Também chamado de **ground truth**.\n",
    "\n",
    "Exemplo:\n"
   ]
  },
  {
   "cell_type": "code",
   "execution_count": null,
   "metadata": {},
   "outputs": [],
   "source": [
    "import pandas as pd\n",
    "df_jogos = pd.DataFrame([[\"sim\",\"sim\",\"não\",\"não\"],\n",
    "                           [\"não\",\"não\",\"sim\",\"sim\"],\n",
    "                         [\"sim\",\"não\",\"não\",\"sim\"]],\n",
    "                        columns=[\"chuvoso\",\"ventos fortes\",\"ensolarado\",\"jogar volei?\"])\n",
    "df_jogos[df_jogos[\"chuvoso\"]==\"sim\"]"
   ]
  },
  {
   "cell_type": "markdown",
   "metadata": {},
   "source": [
    "Neste exemplo o objetivo é verificar se é possível jogar uma partida de vôlei dependendo das situações climáticas. Neste contexto, `chuvoso`, `ventos fortes` e `ensolarado` são os atributos e `jogar volei?` é a classe. "
   ]
  },
  {
   "cell_type": "markdown",
   "metadata": {},
   "source": [
    "## Implementação do Ganho de Informação"
   ]
  },
  {
   "cell_type": "markdown",
   "metadata": {},
   "source": [
    "Implemente o código no arquivo `ganho_informacao.py` de acordo com as instruções comentadas. Faça na ordem das funçoes que estiverem lá. Para cada função implementada, rode o teste automatizado para verificar se a mesma está funcionando (veja na próxima seção). Os [slides de ganho de informação](https://docs.google.com/presentation/d/1TgLJbcRj_Q5I-zqYYgMqyomKRxalW0Q0saJIS3XXeX8/edit?usp=sharing) poderão ajudar.\n",
    "\n",
    "Caso queira, você também pode usar esse notebook para testar. Para isso, comente a importação do módulo `ganho_informacao` e copie a função aqui no notebook para testà-la e, quando tiver funcionando, copie e cole ela de volta no arquivo `ganho_informação.py`;\n",
    "\n",
    "**Atenção:** após rodar o comando de import neste notebook, caso precise mudar algo no código `ganho_informacao.py` e visualizar o resultado aqui, você deverá reiniciar o kernel (kernel -> restart)."
   ]
  },
  {
   "cell_type": "markdown",
   "metadata": {},
   "source": [
    "O teste automatizado é feito executando o arquivo `tests.py` explicitando, opcionalmente, a classe/método que desejamos executar. Logo após implementar uma função, teste-o usando o teste automatizado correspondente. Para isso, pressione `ctrl+enter` na célula com o comando de teste abaixo para executá-lo. **Em alguns computadores/sistemas operacionais, vocês deverão alterar o comando de `python3` para `python`**."
   ]
  },
  {
   "cell_type": "markdown",
   "metadata": {},
   "source": [
    "**Teste 1 - função `entropia`:** "
   ]
  },
  {
   "cell_type": "code",
   "execution_count": null,
   "metadata": {},
   "outputs": [],
   "source": [
    "!python3 -m tests TestInfoGain.test_entropy"
   ]
  },
  {
   "cell_type": "markdown",
   "metadata": {},
   "source": [
    "**Teste 2 - função `ganho_informacao_condicional`:**"
   ]
  },
  {
   "cell_type": "code",
   "execution_count": null,
   "metadata": {},
   "outputs": [],
   "source": [
    "!python3 -m tests TestInfoGain.teste_ganho_informacao_condicional"
   ]
  },
  {
   "cell_type": "markdown",
   "metadata": {},
   "source": [
    "**Teste 3 - função `ganho_informacao`:**"
   ]
  },
  {
   "cell_type": "code",
   "execution_count": null,
   "metadata": {},
   "outputs": [],
   "source": [
    "!python3 -m tests TestInfoGain.test_info_gain"
   ]
  },
  {
   "cell_type": "markdown",
   "metadata": {},
   "source": [
    "Importação das bibliotecas necessárias. Sempre que quiser acessar alguma função/classe do pandas use, por exemplo: pd.DataFrame()"
   ]
  },
  {
   "cell_type": "code",
   "execution_count": null,
   "metadata": {},
   "outputs": [],
   "source": [
    "import numpy as np\n",
    "import pandas as pd\n",
    "from ganho_informacao import entropia,ganho_informacao"
   ]
  },
  {
   "cell_type": "markdown",
   "metadata": {},
   "source": [
    "Como, no código acima, chamamos o módulo pandas de \"pd\", então, temos que referencia-lo sempre que quisermos intanciar uma classe/chamar uma função deste módulo. Exemplo:"
   ]
  },
  {
   "cell_type": "code",
   "execution_count": null,
   "metadata": {},
   "outputs": [],
   "source": [
    "pd.DataFrame({\"col1\":[\"a\",\"b\",\"c\"]})"
   ]
  },
  {
   "cell_type": "markdown",
   "metadata": {},
   "source": [
    "Faça um DataFrame do exemplo [nos slides sobre Ganho de Informação (sobre a renda e o crédito aprovado)](https://docs.google.com/presentation/d/1TgLJbcRj_Q5I-zqYYgMqyomKRxalW0Q0saJIS3XXeX8/edit?usp=sharing). Logo após, calcule a entropia da classe `Credito Aprovado` e o ganho de informação do atributo `Renda`. Confira os resultados com os slides. Os resulados no slides possuem arredondamento e, por isso, pode-se diferenciar a partir da 3ª casa decimal.  "
   ]
  },
  {
   "cell_type": "code",
   "execution_count": null,
   "metadata": {
    "scrolled": true
   },
   "outputs": [],
   "source": [
    "## Seu código aqui - Criação do DataFrame \n",
    "\n",
    "df = pd.DataFrame({'Renda' : [\"Alta\", \"Alta\", \"Alta\", \"Baixa\", \"Alta\", \"Baixa\", \"Baixa\", \"Baixa\"],\n",
    "                   'Crédito aprovado?' : [\"Sim\", \"Sim\", \"Sim\", \"Não\", \"Não\", \"Não\", \"Não\", \"Não\"],\n",
    "                    })\n",
    "print(df)"
   ]
  },
  {
   "cell_type": "code",
   "execution_count": null,
   "metadata": {},
   "outputs": [],
   "source": [
    "## Seu código aqui - Calculo da Entropia da classe \"Credito Aprovado\"\n",
    "\n",
    "entropia(df, \"Crédito aprovado?\")"
   ]
  },
  {
   "cell_type": "code",
   "execution_count": null,
   "metadata": {},
   "outputs": [],
   "source": [
    "## Seu código aqui - Calculo do InfoGain do atributo \"Renda\"\n",
    "\n",
    "ganho_informacao(df, \"Crédito aprovado?\", \"Renda\")"
   ]
  },
  {
   "cell_type": "markdown",
   "metadata": {
    "scrolled": true
   },
   "source": [
    "## Análise de Atributos para Diferenciar Espécies de [Plantas do Gênero Iris](https://en.wikipedia.org/wiki/Iris_(plant))"
   ]
  },
  {
   "cell_type": "markdown",
   "metadata": {},
   "source": [
    "<img src=\"imgs/partes_flor.png\" alt=\"Partes de uma flor\">\n",
    "\n",
    "Plantas do gênero Iris possuem diversas espécies que podem ser diferenciadas por algumas caracteristicas da flor.  Nesta prática, iremos investigar quais atributos distinguem melhor algumas espécies dessa planta. Para isso, usaremos [este dataset](iris.csv) que possui 150 plantas do gênero Iris com atributos de sua flor (propriedades): \n",
    "\n",
    "- Tamanho e largura do sépala (em cm)\n",
    "\n",
    "- Tamanho e largura da pétala (em cm)\n",
    "\n",
    "Existem 3 espécies de plantas do genero Iris na base que será usada: [Iris Setosa](https://en.wikipedia.org/wiki/Iris_setosa), [Iris Virginifica](https://en.wikipedia.org/wiki/Iris_virginica) e [Iris Versicolor](https://en.wikipedia.org/wiki/Iris_versicolor)\n",
    "\n",
    "Nesta atividade, você deverá:\n",
    "\n",
    "1. Calcular do InfoGain de cada atributo. Armazene o resultado em um DataFrame de duas colunas - nome do atributo e valor de infogain - ordene de forma decrescente pelo valor do InfoGain .\n",
    "\n",
    "1. Gerar um gráfico de dispersão (*scatter plot*) em que o eixo x e y são os dois atributos com InfoGain mais altos e com 3 grupos, cada grupo, uma espécie de flor diferente.\n",
    "\n",
    "Iniciamente, leia o CSV e armazene-o em um DataFrame por meio do [método read_csv do pandas](https://pandas.pydata.org/pandas-docs/stable/reference/api/pandas.read_csv.html)."
   ]
  },
  {
   "cell_type": "code",
   "execution_count": 1,
   "metadata": {
    "scrolled": true
   },
   "outputs": [
    {
     "name": "stdout",
     "output_type": "stream",
     "text": [
      "     Sepal Length  Sepal Width  Petal Length  Petal Width         Species\n",
      "0             5.1          3.5           1.4          0.2     Iris-setosa\n",
      "1             4.9          3.0           1.4          0.2     Iris-setosa\n",
      "2             4.7          3.2           1.3          0.2     Iris-setosa\n",
      "3             4.6          3.1           1.5          0.2     Iris-setosa\n",
      "4             5.0          3.6           1.4          0.2     Iris-setosa\n",
      "..            ...          ...           ...          ...             ...\n",
      "145           6.7          3.0           5.2          2.3  Iris-virginica\n",
      "146           6.3          2.5           5.0          1.9  Iris-virginica\n",
      "147           6.5          3.0           5.2          2.0  Iris-virginica\n",
      "148           6.2          3.4           5.4          2.3  Iris-virginica\n",
      "149           5.9          3.0           5.1          1.8  Iris-virginica\n",
      "\n",
      "[150 rows x 5 columns]\n"
     ]
    }
   ],
   "source": [
    "# Leia o CSV e armazene-o em um DataFrame - use a função read_csv do pandas\n",
    "import numpy as np\n",
    "import pandas as pd\n",
    "from ganho_informacao import entropia,ganho_informacao\n",
    "\n",
    "df = pd.read_csv('iris.csv')\n",
    "print(df)"
   ]
  },
  {
   "cell_type": "markdown",
   "metadata": {},
   "source": [
    "Agora, por meio das funções que você implementou, calcule o InfoGain de cada atributo. O DataFrame possui um atributo `columns` que pode ajudar. Armazene o resultado em um DataFrame de duas colunas - nome do atributo e valor de infogain - ordene essa tabela pelo InfoGain, [use o método sort_values do DataFrame](https://pandas.pydata.org/pandas-docs/version/0.19/generated/pandas.DataFrame.sort_values.html#pandas.DataFrame.sort_values). Para criação do novo DataFrame com o infogain, você pode criar uma matriz e depois adiciona-la em um DataFrame novo."
   ]
  },
  {
   "cell_type": "code",
   "execution_count": 2,
   "metadata": {},
   "outputs": [
    {
     "name": "stdout",
     "output_type": "stream",
     "text": [
      "GI(Species| Sepal Length=5.0) = 0.05753562705558625\n",
      "GI(Species| Sepal Length=5.1) = 0.12243787701231687\n",
      "GI(Species| Sepal Length=6.3) = 0.16243787701231685\n",
      "GI(Species| Sepal Length=5.7) = 0.17770014688035726\n",
      "GI(Species| Sepal Length=6.7) = 0.21132833342948745\n",
      "GI(Species| Sepal Length=5.8) = 0.2176818537959661\n",
      "GI(Species| Sepal Length=5.5) = 0.2513678106298439\n",
      "GI(Species| Sepal Length=6.4) = 0.28505376746372174\n",
      "GI(Species| Sepal Length=4.9) = 0.29838710079705505\n",
      "GI(Species| Sepal Length=5.4) = 0.3357847039599671\n",
      "GI(Species| Sepal Length=6.1) = 0.3624513706266338\n",
      "GI(Species| Sepal Length=6.0) = 0.38911803729330047\n",
      "GI(Species| Sepal Length=5.6) = 0.42651564045621254\n",
      "GI(Species| Sepal Length=4.8) = 0.4793477238135844\n",
      "GI(Species| Sepal Length=6.5) = 0.5081155373413776\n",
      "GI(Species| Sepal Length=6.2) = 0.5237145373606085\n",
      "GI(Species| Sepal Length=7.7) = 0.565980204046506\n",
      "GI(Species| Sepal Length=6.9) = 0.5866117874134933\n",
      "GI(Species| Sepal Length=4.6) = 0.6288774540993908\n",
      "GI(Species| Sepal Length=5.2) = 0.6495090374663781\n",
      "GI(Species| Sepal Length=5.9) = 0.6628423707997114\n",
      "GI(Species| Sepal Length=4.4) = 0.6945416208141345\n",
      "GI(Species| Sepal Length=7.2) = 0.7262408708285576\n",
      "GI(Species| Sepal Length=6.8) = 0.7395742041618909\n",
      "GI(Species| Sepal Length=6.6) = 0.7607070375048397\n",
      "GI(Species| Sepal Length=4.7) = 0.7818398708477885\n",
      "GI(Species| Sepal Length=7.6) = 0.7924062875192629\n",
      "GI(Species| Sepal Length=7.4) = 0.8029727041907373\n",
      "GI(Species| Sepal Length=7.3) = 0.8135391208622117\n",
      "GI(Species| Sepal Length=7.0) = 0.8241055375336861\n",
      "GI(Species| Sepal Length=7.1) = 0.8346719542051605\n",
      "GI(Species| Sepal Length=5.3) = 0.8452383708766349\n",
      "GI(Species| Sepal Length=4.3) = 0.8558047875481093\n",
      "GI(Species| Sepal Length=4.5) = 0.8663712042195837\n",
      "GI(Species| Sepal Length=7.9) = 0.8769376208910581\n",
      "GI(Species| Sepal Width=3.0) = 0.010179449067083117\n",
      "GI(Species| Sepal Width=2.8) = 0.06615465643786088\n",
      "GI(Species| Sepal Width=3.2) = 0.06930775393504703\n",
      "GI(Species| Sepal Width=3.1) = 0.07173794044571556\n",
      "GI(Species| Sepal Width=3.4) = 0.11526677386558763\n",
      "GI(Species| Sepal Width=2.9) = 0.14381229728386208\n",
      "GI(Species| Sepal Width=2.7) = 0.1794454837368381\n",
      "GI(Species| Sepal Width=2.5) = 0.21064348377529976\n",
      "GI(Species| Sepal Width=3.5) = 0.274041983804146\n",
      "GI(Species| Sepal Width=3.3) = 0.2790745671519025\n",
      "GI(Species| Sepal Width=3.8) = 0.30574123381856916\n",
      "GI(Species| Sepal Width=2.6) = 0.3262082973607854\n",
      "GI(Species| Sepal Width=2.3) = 0.34683988072777266\n",
      "GI(Species| Sepal Width=3.7) = 0.3785391307421958\n",
      "GI(Species| Sepal Width=2.4) = 0.41023838075661895\n",
      "GI(Species| Sepal Width=2.2) = 0.42357171408995226\n",
      "GI(Species| Sepal Width=3.6) = 0.43690504742328556\n",
      "GI(Species| Sepal Width=3.9) = 0.4580378807662343\n",
      "GI(Species| Sepal Width=4.4) = 0.4686042974377087\n",
      "GI(Species| Sepal Width=4.0) = 0.4791707141091831\n",
      "GI(Species| Sepal Width=4.1) = 0.4897371307806575\n",
      "GI(Species| Sepal Width=4.2) = 0.5003035474521319\n",
      "GI(Species| Sepal Width=2.0) = 0.5108699641236063\n",
      "GI(Species| Petal Length=1.5) = 0.14792983340064125\n",
      "GI(Species| Petal Length=1.4) = 0.2747268334583337\n",
      "GI(Species| Petal Length=5.1) = 0.3302680631928169\n",
      "GI(Species| Petal Length=4.5) = 0.38580929292730004\n",
      "GI(Species| Petal Length=1.6) = 0.45977420962762067\n",
      "GI(Species| Petal Length=1.3) = 0.5337391263279413\n",
      "GI(Species| Petal Length=5.6) = 0.5971376263567876\n",
      "GI(Species| Petal Length=4.7) = 0.6499697097141595\n",
      "GI(Species| Petal Length=4.9) = 0.6704367732563757\n",
      "GI(Species| Petal Length=4.0) = 0.7232688566137476\n",
      "GI(Species| Petal Length=4.2) = 0.7655345232996451\n",
      "GI(Species| Petal Length=5.0) = 0.7861661066666324\n",
      "GI(Species| Petal Length=4.4) = 0.8284317733525299\n",
      "GI(Species| Petal Length=4.8) = 0.8440307733717608\n",
      "GI(Species| Petal Length=1.7) = 0.8862964400576583\n",
      "GI(Species| Petal Length=3.9) = 0.9179956900720814\n",
      "GI(Species| Petal Length=4.6) = 0.9496949400865045\n",
      "GI(Species| Petal Length=5.7) = 0.9813941901009275\n",
      "GI(Species| Petal Length=4.1) = 1.0130934401153506\n",
      "GI(Species| Petal Length=5.5) = 1.0447926901297737\n",
      "GI(Species| Petal Length=6.1) = 1.0764919401441968\n",
      "GI(Species| Petal Length=5.8) = 1.1081911901586199\n",
      "GI(Species| Petal Length=3.3) = 1.1293240235015687\n",
      "GI(Species| Petal Length=5.4) = 1.1504568568445175\n",
      "GI(Species| Petal Length=6.7) = 1.1715896901874663\n",
      "GI(Species| Petal Length=5.3) = 1.192722523530415\n",
      "GI(Species| Petal Length=5.9) = 1.2138553568733639\n",
      "GI(Species| Petal Length=6.0) = 1.2349881902163127\n",
      "GI(Species| Petal Length=1.2) = 1.2561210235592615\n",
      "GI(Species| Petal Length=4.3) = 1.2772538569022103\n",
      "GI(Species| Petal Length=1.9) = 1.298386690245159\n",
      "GI(Species| Petal Length=3.5) = 1.3195195235881079\n",
      "GI(Species| Petal Length=5.2) = 1.3406523569310567\n",
      "GI(Species| Petal Length=3.0) = 1.351218773602531\n",
      "GI(Species| Petal Length=1.1) = 1.3617851902740052\n",
      "GI(Species| Petal Length=3.7) = 1.3723516069454795\n",
      "GI(Species| Petal Length=3.8) = 1.3829180236169538\n",
      "GI(Species| Petal Length=6.6) = 1.393484440288428\n",
      "GI(Species| Petal Length=6.3) = 1.4040508569599024\n",
      "GI(Species| Petal Length=1.0) = 1.4146172736313767\n",
      "GI(Species| Petal Length=6.9) = 1.425183690302851\n",
      "GI(Species| Petal Length=3.6) = 1.4357501069743253\n",
      "GI(Species| Petal Length=6.4) = 1.4463165236457995\n",
      "GI(Species| Petal Width=0.2) = 0.2958596668012825\n",
      "GI(Species| Petal Width=1.3) = 0.43322308353044936\n",
      "GI(Species| Petal Width=1.8) = 0.5269147355638512\n",
      "GI(Species| Petal Width=1.5) = 0.6017099418896753\n",
      "GI(Species| Petal Width=1.4) = 0.6572511716241585\n",
      "GI(Species| Petal Width=2.3) = 0.7417825049959534\n",
      "GI(Species| Petal Width=1.0) = 0.8157474216962741\n",
      "GI(Species| Petal Width=0.4) = 0.8897123383965948\n",
      "GI(Species| Petal Width=0.3) = 0.9636772550969155\n",
      "GI(Species| Petal Width=0.1) = 1.0270757551257617\n",
      "GI(Species| Petal Width=2.1) = 1.0904742551546078\n",
      "GI(Species| Petal Width=2.0) = 1.153872755183454\n",
      "GI(Species| Petal Width=1.2) = 1.2067048385408259\n",
      "GI(Species| Petal Width=1.9) = 1.2595369218981978\n",
      "GI(Species| Petal Width=1.6) = 1.280168505265185\n",
      "GI(Species| Petal Width=2.5) = 1.311867755279608\n",
      "GI(Species| Petal Width=2.2) = 1.3435670052940312\n",
      "GI(Species| Petal Width=2.4) = 1.3752662553084543\n",
      "GI(Species| Petal Width=1.1) = 1.4069655053228773\n",
      "GI(Species| Petal Width=1.7) = 1.4147650053324927\n",
      "GI(Species| Petal Width=0.6) = 1.425331422003967\n",
      "GI(Species| Petal Width=0.5) = 1.4358978386754413\n",
      "       Atributo  infoGain\n",
      "0  Sepal Length  0.876938\n",
      "1   Sepal Width  0.510870\n",
      "2  Petal Length  1.446317\n",
      "3   Petal Width  1.435898\n"
     ]
    }
   ],
   "source": [
    "## Seu código aqui\n",
    "infoGain = pd.DataFrame({'Atributo': [df.columns[0], \n",
    "                                      df.columns[1], \n",
    "                                      df.columns[2], \n",
    "                                      df.columns[3]],\n",
    "                        'infoGain': [ganho_informacao(df, \"Species\", df.columns[0]), \n",
    "                                     ganho_informacao(df, \"Species\", df.columns[1]), \n",
    "                                     ganho_informacao(df, \"Species\", df.columns[2]), \n",
    "                                     ganho_informacao(df, \"Species\", df.columns[3])]})\n",
    "#infoGain = infoGain.sort_values(by='infoGain')\n",
    "print(infoGain)"
   ]
  },
  {
   "cell_type": "markdown",
   "metadata": {},
   "source": [
    "Gere um gráfico de dispersão (scatter plot) em que o eixo x e y são os dois atributos com InfoGain mais altos e com 3 grupos, cada grupo, uma espécie de flor diferente. [Veja o Jupyter do Pandas, se necessário](Básico%20-%20Pandas.ipynb). "
   ]
  },
  {
   "cell_type": "code",
   "execution_count": null,
   "metadata": {},
   "outputs": [],
   "source": [
    "# Crie o gráfico solicitado\n",
    "\n",
    "## Seu código aqui\n",
    "\n",
    "filteredAxis = infoGain.nlargest(2, infoGain.columns[1])\n",
    "\n",
    "plot = df.plot.scatter(x=filteredAxis.iat[0,0],y=filteredAxis.iat[1,0])\n",
    "\n",
    "# Adding multiple data labels\n",
    "df1 = df[df['Species'] == 'Iris-setosa']\n",
    "df2 = df[df['Species'] == 'Iris-versicolor']\n",
    "df3 = df[df['Species'] == 'Iris-virginica']\n",
    "\n",
    "df1.plot.scatter(x=filteredAxis.iat[0,0], y=filteredAxis.iat[1,0], c='r', label='Iris-setosa', ax=plot)\n",
    "df2.plot.scatter(x=filteredAxis.iat[0,0], y=filteredAxis.iat[1,0], ax=plot, c='g', label='Iris-versicolor')\n",
    "df3.plot.scatter(x=filteredAxis.iat[0,0], y=filteredAxis.iat[1,0], ax=plot, c='b', label='Iris-virginica')"
   ]
  },
  {
   "cell_type": "markdown",
   "metadata": {},
   "source": [
    "## Opcional: discretização dos atributos numéricos\n",
    "\n",
    "Nesta versão de InfoGain, não discretizamos quando o valor é numérico. Porém, o correto seria discretizarmos cada atributo numérico. Para discretizar, mude o código implementado para usar a função [cut do Pandas](https://pandas.pydata.org/docs/reference/api/pandas.cut.html) quando necessário.\n",
    "\n",
    "\n",
    "Muitas vezes, depois da discritização o resultado de infogain pode mudar, nem sempre para um valor mais alto. Isso se deve a forma que ele é discretizado. Dependendo da forma, podemos perder informação. Fazer a discretização de uma forma que a divisão forneça o maior ganho de informação possível pode ser uma boa alternativa."
   ]
  },
  {
   "cell_type": "markdown",
   "metadata": {},
   "source": [
    "## Informações sobre da Base de Dados (retirada do [Weka](https://www.cs.waikato.ac.nz/ml/weka/))"
   ]
  },
  {
   "cell_type": "markdown",
   "metadata": {},
   "source": [
    "1. Title: Iris Plants Database\n",
    " \n",
    "2. Sources:\n",
    "      - (a) Creator: R.A. Fisher\n",
    "      - (b) Donor: Michael Marshall (MARSHALL%PLU@io.arc.nasa.gov)\n",
    "      - (c) Date: July, 1988\n",
    "\n",
    "3. Past Usage:\n",
    "    1. Fisher,R.A. \"The use of multiple measurements in taxonomic problems\"\n",
    "       Annual Eugenics, 7, Part II, 179-188 (1936); also in \"Contributions\n",
    "       to Mathematical Statistics\" (John Wiley, NY, 1950).\n",
    "    2. Duda,R.O., & Hart,P.E. (1973) Pattern Classification and Scene Analysis.\n",
    "       (Q327.D83) John Wiley & Sons.  ISBN 0-471-22361-1.  See page 218.\n",
    "    3. Dasarathy, B.V. (1980) \"Nosing Around the Neighborhood: A New System\n",
    "       Structure and Classification Rule for Recognition in Partially Exposed\n",
    "       Environments\".  IEEE Transactions on Pattern Analysis and Machine\n",
    "       Intelligence, Vol. PAMI-2, No. 1, 67-71.\n",
    "    4. Gates, G.W. (1972) \"The Reduced Nearest Neighbor Rule\".  IEEE \n",
    "       Transactions on Information Theory, May 1972, 431-433.\n",
    "    5. See also: 1988 MLC Proceedings, 54-64.  Cheeseman et al's AUTOCLASS II\n",
    "       conceptual clustering system finds 3 classes in the data.\n",
    " \n",
    "4. Relevant Information:\n",
    "        This is perhaps the best known database to be found in the pattern\n",
    "        recognition literature.  Fisher's paper is a classic in the field\n",
    "        and is referenced frequently to this day.  (See Duda & Hart, for\n",
    "        example.)  The data set contains 3 classes of 50 instances each,\n",
    "        where each class refers to a type of iris plant.  One class is\n",
    "        linearly separable from the other 2; the latter are NOT linearly\n",
    "        separable from each other."
   ]
  }
 ],
 "metadata": {
  "kernelspec": {
   "display_name": "Python 3 (ipykernel)",
   "language": "python",
   "name": "python3"
  },
  "language_info": {
   "codemirror_mode": {
    "name": "ipython",
    "version": 3
   },
   "file_extension": ".py",
   "mimetype": "text/x-python",
   "name": "python",
   "nbconvert_exporter": "python",
   "pygments_lexer": "ipython3",
   "version": "3.10.6"
  }
 },
 "nbformat": 4,
 "nbformat_minor": 2
}
